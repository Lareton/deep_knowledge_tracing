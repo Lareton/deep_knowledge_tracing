{
 "cells": [
  {
   "cell_type": "code",
   "execution_count": 1,
   "metadata": {
    "collapsed": true
   },
   "outputs": [],
   "source": [
    "import pickle"
   ]
  },
  {
   "cell_type": "code",
   "execution_count": 2,
   "outputs": [],
   "source": [
    "def read_pickle(path):\n",
    "    with open(path, \"rb\") as f:\n",
    "        return pickle.load(f)"
   ],
   "metadata": {
    "collapsed": false,
    "pycharm": {
     "name": "#%%\n"
    }
   }
  },
  {
   "cell_type": "code",
   "execution_count": 205,
   "outputs": [],
   "source": [
    "train_dataset_raw = read_pickle(\"linear_model_dataset/dataset_train_new.pkl\")\n",
    "valid_dataset_raw = read_pickle(\"linear_model_dataset/dataset_valid_new.pkl\")\n",
    "task_emb = read_pickle(\"tasks_embeddings.pkl\").T"
   ],
   "metadata": {
    "collapsed": false,
    "pycharm": {
     "name": "#%%\n"
    }
   }
  },
  {
   "cell_type": "code",
   "execution_count": 206,
   "outputs": [
    {
     "data": {
      "text/plain": "64"
     },
     "execution_count": 206,
     "metadata": {},
     "output_type": "execute_result"
    }
   ],
   "source": [
    "TASK_EMB_LENGTH = task_emb.shape[1]\n",
    "TASK_EMB_LENGTH"
   ],
   "metadata": {
    "collapsed": false,
    "pycharm": {
     "name": "#%%\n"
    }
   }
  },
  {
   "cell_type": "code",
   "execution_count": 207,
   "outputs": [],
   "source": [
    "import torch\n",
    "import numpy as np\n",
    "import itertools\n",
    "from tqdm import tqdm\n",
    "\n",
    "from torch.utils.data import Dataset\n",
    "from torchvision import datasets\n",
    "import random\n",
    "from torch import nn\n"
   ],
   "metadata": {
    "collapsed": false,
    "pycharm": {
     "name": "#%%\n"
    }
   }
  },
  {
   "cell_type": "code",
   "execution_count": 208,
   "outputs": [
    {
     "name": "stdout",
     "output_type": "stream",
     "text": [
      "0 2828\n"
     ]
    }
   ],
   "source": [
    "all_tasks_set = set()\n",
    "\n",
    "for i in train_dataset_raw:\n",
    "    for j in i[0]:\n",
    "        all_tasks_set.add(j)\n",
    "\n",
    "print(min(all_tasks_set), max(all_tasks_set))"
   ],
   "metadata": {
    "collapsed": false,
    "pycharm": {
     "name": "#%%\n"
    }
   }
  },
  {
   "cell_type": "code",
   "execution_count": 209,
   "outputs": [],
   "source": [
    "task_emb[0] = np.array([0] * 64)"
   ],
   "metadata": {
    "collapsed": false,
    "pycharm": {
     "name": "#%%\n"
    }
   }
  },
  {
   "cell_type": "code",
   "execution_count": 211,
   "outputs": [],
   "source": [
    "class CustomDataset(Dataset):\n",
    "    HISTORY_LENGTH = 200\n",
    "    LENGTH_SAMPLE_RANDOM_RANGE = (199, 200)\n",
    "\n",
    "    def __init__(self, raw_dataset, emb_tasks):\n",
    "        # raw_dataset  List[Tuple[List_answers, List_results]]\n",
    "        self.raw_dataset = raw_dataset\n",
    "        self.emb_tasks = emb_tasks\n",
    "\n",
    "    def __len__(self):\n",
    "        return len(self.raw_dataset)\n",
    "\n",
    "\n",
    "    def add_padding(self, arr):\n",
    "        assert len(arr) <= self.HISTORY_LENGTH\n",
    "        return list(arr) + [0] * (self.HISTORY_LENGTH - len(arr))\n",
    "\n",
    "    def __getitem__(self, idx):\n",
    "        # не используем индекс - каждый раз берем историю случайного человека\n",
    "        rand_idx = random.randint(0, len(self.raw_dataset)-1)\n",
    "        raw_sample = self.raw_dataset[rand_idx]\n",
    "        raw_sample_len = len(raw_sample[0])\n",
    "\n",
    "        if len(raw_sample[0]) < self.LENGTH_SAMPLE_RANDOM_RANGE[0]:\n",
    "            return self.__getitem__(-1)\n",
    "\n",
    "        # случайно сэмплируем длину истории\n",
    "        sample_length = random.randint(self.LENGTH_SAMPLE_RANDOM_RANGE[0],\n",
    "                                       min(self.LENGTH_SAMPLE_RANDOM_RANGE[1], raw_sample_len))\n",
    "\n",
    "        # случайно сэмплируем место начала\n",
    "        start_idx = random.randint(0, raw_sample_len - sample_length)\n",
    "        seq_tasks = raw_sample[0][start_idx:start_idx+sample_length]\n",
    "        seq_results = raw_sample[1][start_idx:start_idx+sample_length]\n",
    "\n",
    "        train_tasks, loss_task = seq_tasks[:-1], seq_tasks[-1]\n",
    "        train_results, loss_result = seq_results[:-1], seq_results[-1]\n",
    "\n",
    "        # добавляем паддинг из нулей\n",
    "        seq_tasks = self.add_padding(train_tasks)\n",
    "        seq_results = self.add_padding(train_results)\n",
    "\n",
    "        # заменяем номера заданий их ембедингами\n",
    "        seq_tasks_emb = np.array([self.emb_tasks[i] for i in seq_tasks]).flatten()\n",
    "        seq_resutls = np.array(list(map(int, seq_results)))\n",
    "        x_sample = np.append(seq_tasks_emb, seq_resutls, 0)\n",
    "        x_sample = torch.FloatTensor(x_sample)\n",
    "\n",
    "        return x_sample, loss_task, loss_result"
   ],
   "metadata": {
    "collapsed": false,
    "pycharm": {
     "name": "#%%\n"
    }
   }
  },
  {
   "cell_type": "code",
   "execution_count": 212,
   "outputs": [],
   "source": [
    "train_dataset = CustomDataset(train_dataset_raw, task_emb)\n",
    "valid_dataset = CustomDataset(valid_dataset_raw, task_emb)"
   ],
   "metadata": {
    "collapsed": false,
    "pycharm": {
     "name": "#%%\n"
    }
   }
  },
  {
   "cell_type": "code",
   "execution_count": 215,
   "outputs": [
    {
     "data": {
      "text/plain": "torch.Size([13000])"
     },
     "execution_count": 215,
     "metadata": {},
     "output_type": "execute_result"
    }
   ],
   "source": [
    "x_sample, loss_task, loss_result = train_dataset[0]\n",
    "x_sample.shape"
   ],
   "metadata": {
    "collapsed": false,
    "pycharm": {
     "name": "#%%\n"
    }
   }
  },
  {
   "cell_type": "code",
   "execution_count": 216,
   "outputs": [],
   "source": [
    "class LinearModelDKT(nn.Module):\n",
    "    def __init__(self, in_features_length=13000, tasks_count=2829):\n",
    "        super(LinearModelDKT, self).__init__()\n",
    "        self.tasks_count = tasks_count\n",
    "        self.in_features_length = in_features_length\n",
    "\n",
    "        self.l1 = nn.Linear(self.in_features_length, 4096)\n",
    "        self.l2 = nn.Linear(4096, 4096)\n",
    "        self.l3 = nn.Linear(4096, 2829)\n",
    "\n",
    "    def forward(self, x):\n",
    "        res = nn.functional.relu(self.l1(x))\n",
    "        res = nn.functional.relu(self.l2(res))\n",
    "        res = self.l3(res)\n",
    "\n",
    "        return res\n"
   ],
   "metadata": {
    "collapsed": false,
    "pycharm": {
     "name": "#%%\n"
    }
   }
  },
  {
   "cell_type": "code",
   "execution_count": 218,
   "outputs": [],
   "source": [
    "model = LinearModelDKT()"
   ],
   "metadata": {
    "collapsed": false,
    "pycharm": {
     "name": "#%%\n"
    }
   }
  },
  {
   "cell_type": "code",
   "execution_count": 219,
   "outputs": [
    {
     "data": {
      "text/plain": "LinearModelDKT(\n  (l1): Linear(in_features=13000, out_features=4096, bias=True)\n  (l2): Linear(in_features=4096, out_features=4096, bias=True)\n  (l3): Linear(in_features=4096, out_features=2829, bias=True)\n)"
     },
     "execution_count": 219,
     "metadata": {},
     "output_type": "execute_result"
    }
   ],
   "source": [
    "model"
   ],
   "metadata": {
    "collapsed": false,
    "pycharm": {
     "name": "#%%\n"
    }
   }
  },
  {
   "cell_type": "code",
   "execution_count": 219,
   "outputs": [],
   "source": [],
   "metadata": {
    "collapsed": false,
    "pycharm": {
     "name": "#%%\n"
    }
   }
  },
  {
   "cell_type": "code",
   "execution_count": 220,
   "outputs": [],
   "source": [
    "import torch.optim as optim\n",
    "lr = 0.001\n",
    "optimizer = optim.Adam(model.parameters(), lr)\n",
    "loss_function = torch.nn.BCEWithLogitsLoss()"
   ],
   "metadata": {
    "collapsed": false,
    "pycharm": {
     "name": "#%%\n"
    }
   }
  },
  {
   "cell_type": "code",
   "execution_count": 221,
   "outputs": [],
   "source": [
    "EPOCH_COUNT = 5\n",
    "DEVIDE = \"cuda\"\n",
    "\n",
    "model = model.to(DEVIDE)"
   ],
   "metadata": {
    "collapsed": false,
    "pycharm": {
     "name": "#%%\n"
    }
   }
  },
  {
   "cell_type": "code",
   "execution_count": 223,
   "outputs": [
    {
     "name": "stderr",
     "output_type": "stream",
     "text": [
      "  0%|          | 0/200 [00:00<?, ?it/s]C:\\Users\\iltya\\AppData\\Local\\Temp/ipykernel_39324/217020540.py:10: DeprecationWarning: In future, it will be an error for 'np.bool_' scalars to be interpreted as an index\n",
      "  target = torch.FloatTensor([y_ans]).to(DEVIDE)\n",
      "100%|██████████| 200/200 [00:11<00:00, 18.14it/s]\n"
     ]
    },
    {
     "name": "stdout",
     "output_type": "stream",
     "text": [
      "mean loss:  tensor(0.7265, device='cuda:0', grad_fn=<DivBackward0>)\n"
     ]
    },
    {
     "name": "stderr",
     "output_type": "stream",
     "text": [
      "  0%|          | 0/2427 [00:00<?, ?it/s]C:\\Users\\iltya\\AppData\\Local\\Temp/ipykernel_39324/217020540.py:39: DeprecationWarning: In future, it will be an error for 'np.bool_' scalars to be interpreted as an index\n",
      "  target = torch.FloatTensor([y_ans]).to(DEVIDE)\n",
      "100%|██████████| 2427/2427 [00:06<00:00, 384.91it/s]\n"
     ]
    },
    {
     "name": "stdout",
     "output_type": "stream",
     "text": [
      "valid acc:  tensor([0.5097], device='cuda:0')\n"
     ]
    },
    {
     "name": "stderr",
     "output_type": "stream",
     "text": [
      "100%|██████████| 200/200 [00:10<00:00, 18.70it/s]\n"
     ]
    },
    {
     "name": "stdout",
     "output_type": "stream",
     "text": [
      "mean loss:  tensor(0.7629, device='cuda:0', grad_fn=<DivBackward0>)\n"
     ]
    },
    {
     "name": "stderr",
     "output_type": "stream",
     "text": [
      "100%|██████████| 2427/2427 [00:06<00:00, 383.26it/s]\n"
     ]
    },
    {
     "name": "stdout",
     "output_type": "stream",
     "text": [
      "valid acc:  tensor([0.5187], device='cuda:0')\n"
     ]
    },
    {
     "name": "stderr",
     "output_type": "stream",
     "text": [
      " 39%|███▉      | 78/200 [00:04<00:06, 18.61it/s]\n"
     ]
    },
    {
     "ename": "KeyboardInterrupt",
     "evalue": "",
     "output_type": "error",
     "traceback": [
      "\u001B[1;31m---------------------------------------------------------------------------\u001B[0m",
      "\u001B[1;31mKeyboardInterrupt\u001B[0m                         Traceback (most recent call last)",
      "\u001B[1;32m~\\AppData\\Local\\Temp/ipykernel_39324/217020540.py\u001B[0m in \u001B[0;36m<module>\u001B[1;34m\u001B[0m\n\u001B[0;32m      6\u001B[0m     \u001B[1;32mfor\u001B[0m \u001B[0mind\u001B[0m \u001B[1;32min\u001B[0m \u001B[0mtqdm\u001B[0m\u001B[1;33m(\u001B[0m\u001B[0mrange\u001B[0m\u001B[1;33m(\u001B[0m\u001B[0mlen\u001B[0m\u001B[1;33m(\u001B[0m\u001B[0mtrain_dataset\u001B[0m\u001B[1;33m)\u001B[0m\u001B[1;33m)\u001B[0m\u001B[1;33m[\u001B[0m\u001B[1;33m:\u001B[0m\u001B[1;36m200\u001B[0m\u001B[1;33m]\u001B[0m\u001B[1;33m)\u001B[0m\u001B[1;33m:\u001B[0m\u001B[1;33m\u001B[0m\u001B[1;33m\u001B[0m\u001B[0m\n\u001B[0;32m      7\u001B[0m         \u001B[0mx\u001B[0m\u001B[1;33m,\u001B[0m \u001B[0my_task\u001B[0m\u001B[1;33m,\u001B[0m \u001B[0my_ans\u001B[0m \u001B[1;33m=\u001B[0m \u001B[0mtrain_dataset\u001B[0m\u001B[1;33m[\u001B[0m\u001B[0mind\u001B[0m\u001B[1;33m]\u001B[0m\u001B[1;33m\u001B[0m\u001B[1;33m\u001B[0m\u001B[0m\n\u001B[1;32m----> 8\u001B[1;33m         \u001B[0mx\u001B[0m \u001B[1;33m=\u001B[0m \u001B[0mx\u001B[0m\u001B[1;33m.\u001B[0m\u001B[0mto\u001B[0m\u001B[1;33m(\u001B[0m\u001B[0mDEVIDE\u001B[0m\u001B[1;33m)\u001B[0m\u001B[1;33m\u001B[0m\u001B[1;33m\u001B[0m\u001B[0m\n\u001B[0m\u001B[0;32m      9\u001B[0m         \u001B[0manswers\u001B[0m\u001B[1;33m.\u001B[0m\u001B[0mappend\u001B[0m\u001B[1;33m(\u001B[0m\u001B[0my_ans\u001B[0m\u001B[1;33m)\u001B[0m\u001B[1;33m\u001B[0m\u001B[1;33m\u001B[0m\u001B[0m\n\u001B[0;32m     10\u001B[0m         \u001B[0mtarget\u001B[0m \u001B[1;33m=\u001B[0m \u001B[0mtorch\u001B[0m\u001B[1;33m.\u001B[0m\u001B[0mFloatTensor\u001B[0m\u001B[1;33m(\u001B[0m\u001B[1;33m[\u001B[0m\u001B[0my_ans\u001B[0m\u001B[1;33m]\u001B[0m\u001B[1;33m)\u001B[0m\u001B[1;33m.\u001B[0m\u001B[0mto\u001B[0m\u001B[1;33m(\u001B[0m\u001B[0mDEVIDE\u001B[0m\u001B[1;33m)\u001B[0m\u001B[1;33m\u001B[0m\u001B[1;33m\u001B[0m\u001B[0m\n",
      "\u001B[1;31mKeyboardInterrupt\u001B[0m: "
     ]
    }
   ],
   "source": [
    "for epoch in range(EPOCH_COUNT):\n",
    "    loss_sum = 0\n",
    "    count_epoch = 0\n",
    "    answers = []\n",
    "\n",
    "    for ind in tqdm(range(len(train_dataset))[:200]):\n",
    "        x, y_task, y_ans = train_dataset[ind]\n",
    "        x = x.to(DEVIDE)\n",
    "        answers.append(y_ans)\n",
    "        target = torch.FloatTensor([y_ans]).to(DEVIDE)\n",
    "        y_task = torch.LongTensor([y_task]).to(DEVIDE)\n",
    "\n",
    "        res = model(x)\n",
    "        need_result = res[y_task]\n",
    "\n",
    "        # print(abs(need_result - target))\n",
    "        loss = loss_function(need_result, target)\n",
    "\n",
    "        loss_sum += abs(loss)\n",
    "        count_epoch += 1\n",
    "\n",
    "        optimizer.zero_grad()\n",
    "        loss.backward()\n",
    "        optimizer.step()\n",
    "\n",
    "        with torch.no_grad():\n",
    "            res = model(x)\n",
    "            need_result = res[y_task]\n",
    "            # print(abs(need_result - target))\n",
    "\n",
    "    print(\"mean loss: \", loss_sum / count_epoch)\n",
    "\n",
    "    valid_results = []\n",
    "\n",
    "    for ind in tqdm(range(len(valid_dataset))):\n",
    "        x, y_task, y_ans = train_dataset[ind]\n",
    "        x = x.to(DEVIDE)\n",
    "        answers.append(y_ans)\n",
    "        target = torch.FloatTensor([y_ans]).to(DEVIDE)\n",
    "        y_task = torch.LongTensor([y_task]).to(DEVIDE)\n",
    "\n",
    "        res = model(x)\n",
    "        need_result = res[y_task]\n",
    "        valid_results.append((need_result > 0) == y_ans)\n",
    "\n",
    "    print(\"valid acc: \", sum(valid_results) / len(valid_results))\n"
   ],
   "metadata": {
    "collapsed": false,
    "pycharm": {
     "name": "#%%\n"
    }
   }
  },
  {
   "cell_type": "code",
   "execution_count": null,
   "outputs": [],
   "source": [],
   "metadata": {
    "collapsed": false,
    "pycharm": {
     "name": "#%%\n"
    }
   }
  }
 ],
 "metadata": {
  "kernelspec": {
   "display_name": "Python 3",
   "language": "python",
   "name": "python3"
  },
  "language_info": {
   "codemirror_mode": {
    "name": "ipython",
    "version": 2
   },
   "file_extension": ".py",
   "mimetype": "text/x-python",
   "name": "python",
   "nbconvert_exporter": "python",
   "pygments_lexer": "ipython2",
   "version": "2.7.6"
  }
 },
 "nbformat": 4,
 "nbformat_minor": 0
}